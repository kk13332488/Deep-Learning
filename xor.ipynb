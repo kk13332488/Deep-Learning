{
  "nbformat": 4,
  "nbformat_minor": 0,
  "metadata": {
    "colab": {
      "name": "xor.ipynb",
      "provenance": [],
      "authorship_tag": "ABX9TyMDoUuRzTm3phVWi7xqVlFR",
      "include_colab_link": true
    },
    "kernelspec": {
      "name": "python3",
      "display_name": "Python 3"
    },
    "language_info": {
      "name": "python"
    }
  },
  "cells": [
    {
      "cell_type": "markdown",
      "metadata": {
        "id": "view-in-github",
        "colab_type": "text"
      },
      "source": [
        "<a href=\"https://colab.research.google.com/github/kk13332488/Deep-Learning/blob/main/xor.ipynb\" target=\"_parent\"><img src=\"https://colab.research.google.com/assets/colab-badge.svg\" alt=\"Open In Colab\"/></a>"
      ]
    },
    {
      "cell_type": "code",
      "metadata": {
        "colab": {
          "base_uri": "https://localhost:8080/"
        },
        "id": "2D8pTg1BaP3X",
        "outputId": "85b4ba64-d9a8-458b-b72c-00cdf5740c78"
      },
      "source": [
        "import math\n",
        "import numpy as np\n",
        "\n",
        "def Sigmoid(x):\n",
        "  return (1/(1+np.exp(-x)))\n",
        "\n",
        "x = np.array([[0,0],[0,1],[1,0],[1,1]])\n",
        "w1 = np.array([[-2,5,4],[3,6,3]])\n",
        "b1 = np.array([2,-2,-5])\n",
        "w2 = np.array([[-4],[8],[-8]])\n",
        "h = Sigmoid(np.dot(x, w1)+b1)\n",
        "y = Sigmoid(np.dot(h,w2))\n",
        "\n",
        "print(y)\n"
      ],
      "execution_count": null,
      "outputs": [
        {
          "output_type": "stream",
          "text": [
            "[[0.06766597]\n",
            " [0.94927397]\n",
            " [0.96979454]\n",
            " [0.0542867 ]]\n"
          ],
          "name": "stdout"
        }
      ]
    },
    {
      "cell_type": "code",
      "metadata": {
        "id": "oTAlIoMibT3A"
      },
      "source": [
        ""
      ],
      "execution_count": null,
      "outputs": []
    }
  ]
}