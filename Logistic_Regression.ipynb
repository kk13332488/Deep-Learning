{
  "nbformat": 4,
  "nbformat_minor": 0,
  "metadata": {
    "colab": {
      "name": "Logistic Regression.ipynb",
      "provenance": [],
      "collapsed_sections": [],
      "authorship_tag": "ABX9TyO2WNkeIEb/iU1elDSGUmgK",
      "include_colab_link": true
    },
    "kernelspec": {
      "name": "python3",
      "display_name": "Python 3"
    },
    "language_info": {
      "name": "python"
    }
  },
  "cells": [
    {
      "cell_type": "markdown",
      "metadata": {
        "id": "view-in-github",
        "colab_type": "text"
      },
      "source": [
        "<a href=\"https://colab.research.google.com/github/kk13332488/Deep-Learning/blob/main/Logistic_Regression.ipynb\" target=\"_parent\"><img src=\"https://colab.research.google.com/assets/colab-badge.svg\" alt=\"Open In Colab\"/></a>"
      ]
    },
    {
      "cell_type": "code",
      "metadata": {
        "colab": {
          "base_uri": "https://localhost:8080/"
        },
        "id": "Nhd3oM5UQBOX",
        "outputId": "b227cafb-fc2e-41e3-f64d-453e16de8040"
      },
      "source": [
        "import tensorflow as tf\n",
        "import numpy as np\n",
        "\n",
        "x = np.array([[1],[2],[3],[4],[5],[6]])\n",
        "y = np.array([[0],[0],[0],[1],[1],[1]])\n",
        "\n",
        "from tensorflow.keras import layers\n",
        "model = tf.keras.Sequential()\n",
        "model.add(layers.Dense(1, activation = 'sigmoid', input_dim = 1))\n",
        "#optimizer를 SGD(Stocastic Gradient Descent 모델로), 손실함수(loss function)을 binary_crossentropy로\n",
        "model.compile(optimizer = tf.keras.optimizers.SGD(0.1), loss = 'binary_crossentropy')\n",
        "#x,y로 fitting을 시킨다. epoch, 즉 전체 데이터 학습 횟수는 2000번이다. verbose는 \n",
        "model.fit(x,y,epochs = 2000, verbose = 0)\n",
        "predicted = model.predict(x)\n",
        "predicted"
      ],
      "execution_count": null,
      "outputs": [
        {
          "output_type": "execute_result",
          "data": {
            "text/plain": [
              "array([[0.00430143],\n",
              "       [0.03995979],\n",
              "       [0.28624457],\n",
              "       [0.7944095 ],\n",
              "       [0.9738426 ],\n",
              "       [0.99722   ]], dtype=float32)"
            ]
          },
          "metadata": {
            "tags": []
          },
          "execution_count": 4
        }
      ]
    },
    {
      "cell_type": "code",
      "metadata": {
        "id": "q2XoJIdeWR_U"
      },
      "source": [
        "w = model.layers[0].get_weights()"
      ],
      "execution_count": null,
      "outputs": []
    },
    {
      "cell_type": "code",
      "metadata": {
        "colab": {
          "base_uri": "https://localhost:8080/"
        },
        "id": "De84EQEic32L",
        "outputId": "7351a479-49aa-416b-d380-82fbabda63bc"
      },
      "source": [
        "for i in range(6):\n",
        "  print(1/(1+np.exp(-w[1]-w[0]*x[i])))"
      ],
      "execution_count": null,
      "outputs": [
        {
          "output_type": "stream",
          "text": [
            "[[0.00430138]]\n",
            "[[0.03995981]]\n",
            "[[0.2862445]]\n",
            "[[0.79440949]]\n",
            "[[0.97384265]]\n",
            "[[0.99722002]]\n"
          ],
          "name": "stdout"
        }
      ]
    },
    {
      "cell_type": "code",
      "metadata": {
        "colab": {
          "base_uri": "https://localhost:8080/"
        },
        "id": "9Wh6p9X7dE21",
        "outputId": "4b9e5983-6463-4a9c-f79e-38f70b726359"
      },
      "source": [
        "weights = model.layers[0].get_weights()[0]\n",
        "biases = model.layers[0].get_weights()[1]\n",
        "print(weights, biases)"
      ],
      "execution_count": null,
      "outputs": [
        {
          "output_type": "stream",
          "text": [
            "[[2.2654068]] [-7.7099147]\n"
          ],
          "name": "stdout"
        }
      ]
    },
    {
      "cell_type": "code",
      "metadata": {
        "id": "6dQ38xc5dZGN"
      },
      "source": [
        ""
      ],
      "execution_count": null,
      "outputs": []
    }
  ]
}