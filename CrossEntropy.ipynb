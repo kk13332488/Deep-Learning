{
  "nbformat": 4,
  "nbformat_minor": 0,
  "metadata": {
    "colab": {
      "name": "CrossEntropy.ipynb",
      "provenance": [],
      "collapsed_sections": [],
      "authorship_tag": "ABX9TyNY+3nVoSsq1DiEG1caijw/",
      "include_colab_link": true
    },
    "kernelspec": {
      "name": "python3",
      "display_name": "Python 3"
    },
    "language_info": {
      "name": "python"
    }
  },
  "cells": [
    {
      "cell_type": "markdown",
      "metadata": {
        "id": "view-in-github",
        "colab_type": "text"
      },
      "source": [
        "<a href=\"https://colab.research.google.com/github/kk13332488/Deep-Learning/blob/main/CrossEntropy.ipynb\" target=\"_parent\"><img src=\"https://colab.research.google.com/assets/colab-badge.svg\" alt=\"Open In Colab\"/></a>"
      ]
    },
    {
      "cell_type": "code",
      "metadata": {
        "id": "4_5SxM3vVAi8"
      },
      "source": [
        "#CrossEntropy.py\n",
        "import math\n",
        "y=[0,1,1,0]\n",
        "hypothesis=[0.3, 0.7, 0.6, 0.2]\n",
        "sum=0.\n",
        "for i in range(4):\n",
        "    sum += -y[i]*math.log(hypothesis[i])-(1-y[i])*math.log(1-hypothesis[i])\n",
        "crossEntropy=sum/4\n",
        "print (crossEntropy)\n",
        "\n",
        "y1Hot=[[1,0],[0,1],[0,1],[1,0]]\n",
        "#hypothesis1Hot: [prob Y=0, prob Y=1]\n",
        "hypothesis1Hot=[[0.7,0.3],[0.3,0.7],[0.4,0.6],[0.8,0.2]]\n",
        "sum1=0.\n",
        "for i in range(4):\n",
        "    sum2=0.\n",
        "    for j in range(2):\n",
        "        sum2+=-y1Hot[i][j]*math.log(hypothesis1Hot[i][j])\n",
        "    sum1+=sum2\n",
        "\n",
        "crossEntropy1Hot=sum1/4\n",
        "print (crossEntropy1Hot)\n"
      ],
      "execution_count": null,
      "outputs": []
    }
  ]
}